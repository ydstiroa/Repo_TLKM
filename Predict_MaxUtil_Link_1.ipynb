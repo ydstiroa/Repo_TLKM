{
  "nbformat": 4,
  "nbformat_minor": 0,
  "metadata": {
    "colab": {
      "name": "Predict MaxUtil_Link_1.ipynb",
      "provenance": [],
      "authorship_tag": "ABX9TyOIBydbBJd1XMK2K8XFWOS5",
      "include_colab_link": true
    },
    "kernelspec": {
      "name": "python3",
      "display_name": "Python 3"
    },
    "language_info": {
      "name": "python"
    }
  },
  "cells": [
    {
      "cell_type": "markdown",
      "metadata": {
        "id": "view-in-github",
        "colab_type": "text"
      },
      "source": [
        "<a href=\"https://colab.research.google.com/github/ydstiroa/Repo_TLKM/blob/main/Predict_MaxUtil_Link_1.ipynb\" target=\"_parent\"><img src=\"https://colab.research.google.com/assets/colab-badge.svg\" alt=\"Open In Colab\"/></a>"
      ]
    },
    {
      "cell_type": "code",
      "metadata": {
        "colab": {
          "base_uri": "https://localhost:8080/"
        },
        "id": "xLBZm9CX4v9Y",
        "outputId": "0ac3f749-c25f-4260-b1bc-3331033bcf10"
      },
      "source": [
        "pip install fbprophet"
      ],
      "execution_count": 1,
      "outputs": [
        {
          "output_type": "stream",
          "name": "stdout",
          "text": [
            "Requirement already satisfied: fbprophet in /usr/local/lib/python3.7/dist-packages (0.7.1)\n",
            "Requirement already satisfied: Cython>=0.22 in /usr/local/lib/python3.7/dist-packages (from fbprophet) (0.29.24)\n",
            "Requirement already satisfied: cmdstanpy==0.9.5 in /usr/local/lib/python3.7/dist-packages (from fbprophet) (0.9.5)\n",
            "Requirement already satisfied: pystan>=2.14 in /usr/local/lib/python3.7/dist-packages (from fbprophet) (2.19.1.1)\n",
            "Requirement already satisfied: numpy>=1.15.4 in /usr/local/lib/python3.7/dist-packages (from fbprophet) (1.19.5)\n",
            "Requirement already satisfied: pandas>=1.0.4 in /usr/local/lib/python3.7/dist-packages (from fbprophet) (1.1.5)\n",
            "Requirement already satisfied: matplotlib>=2.0.0 in /usr/local/lib/python3.7/dist-packages (from fbprophet) (3.2.2)\n",
            "Requirement already satisfied: LunarCalendar>=0.0.9 in /usr/local/lib/python3.7/dist-packages (from fbprophet) (0.0.9)\n",
            "Requirement already satisfied: convertdate>=2.1.2 in /usr/local/lib/python3.7/dist-packages (from fbprophet) (2.3.2)\n",
            "Requirement already satisfied: holidays>=0.10.2 in /usr/local/lib/python3.7/dist-packages (from fbprophet) (0.10.5.2)\n",
            "Requirement already satisfied: setuptools-git>=1.2 in /usr/local/lib/python3.7/dist-packages (from fbprophet) (1.2)\n",
            "Requirement already satisfied: python-dateutil>=2.8.0 in /usr/local/lib/python3.7/dist-packages (from fbprophet) (2.8.2)\n",
            "Requirement already satisfied: tqdm>=4.36.1 in /usr/local/lib/python3.7/dist-packages (from fbprophet) (4.62.3)\n",
            "Requirement already satisfied: pytz>=2014.10 in /usr/local/lib/python3.7/dist-packages (from convertdate>=2.1.2->fbprophet) (2018.9)\n",
            "Requirement already satisfied: pymeeus<=1,>=0.3.13 in /usr/local/lib/python3.7/dist-packages (from convertdate>=2.1.2->fbprophet) (0.5.11)\n",
            "Requirement already satisfied: six in /usr/local/lib/python3.7/dist-packages (from holidays>=0.10.2->fbprophet) (1.15.0)\n",
            "Requirement already satisfied: korean-lunar-calendar in /usr/local/lib/python3.7/dist-packages (from holidays>=0.10.2->fbprophet) (0.2.1)\n",
            "Requirement already satisfied: hijri-converter in /usr/local/lib/python3.7/dist-packages (from holidays>=0.10.2->fbprophet) (2.2.2)\n",
            "Requirement already satisfied: ephem>=3.7.5.3 in /usr/local/lib/python3.7/dist-packages (from LunarCalendar>=0.0.9->fbprophet) (4.1)\n",
            "Requirement already satisfied: cycler>=0.10 in /usr/local/lib/python3.7/dist-packages (from matplotlib>=2.0.0->fbprophet) (0.11.0)\n",
            "Requirement already satisfied: pyparsing!=2.0.4,!=2.1.2,!=2.1.6,>=2.0.1 in /usr/local/lib/python3.7/dist-packages (from matplotlib>=2.0.0->fbprophet) (2.4.7)\n",
            "Requirement already satisfied: kiwisolver>=1.0.1 in /usr/local/lib/python3.7/dist-packages (from matplotlib>=2.0.0->fbprophet) (1.3.2)\n"
          ]
        }
      ]
    },
    {
      "cell_type": "code",
      "metadata": {
        "colab": {
          "base_uri": "https://localhost:8080/"
        },
        "id": "xmOB4mgD7vDy",
        "outputId": "648e3142-b3a5-4347-b7b3-34233f5dfabd"
      },
      "source": [
        "from google.colab import drive\n",
        "drive._mount('/content/drive')"
      ],
      "execution_count": 12,
      "outputs": [
        {
          "output_type": "stream",
          "name": "stdout",
          "text": [
            "Drive already mounted at /content/drive; to attempt to forcibly remount, call drive.mount(\"/content/drive\", force_remount=True).\n"
          ]
        }
      ]
    },
    {
      "cell_type": "code",
      "metadata": {
        "colab": {
          "base_uri": "https://localhost:8080/"
        },
        "id": "sRxX4tnZ48Fw",
        "outputId": "7d0f22fe-7320-4c1c-899a-0825d10ff4d5"
      },
      "source": [
        "import fbprophet\n",
        "\n",
        "print('Prophet %s' % fbprophet.__version__)"
      ],
      "execution_count": 13,
      "outputs": [
        {
          "output_type": "stream",
          "name": "stdout",
          "text": [
            "Prophet 0.7.1\n"
          ]
        }
      ]
    },
    {
      "cell_type": "code",
      "metadata": {
        "colab": {
          "base_uri": "https://localhost:8080/",
          "height": 35
        },
        "id": "9qIjlYnS5PvD",
        "outputId": "c73da292-4e13-4990-d389-d99692d92e41"
      },
      "source": [
        "dataset = r'drive/My Drive/Colab Notebooks/data.xlsx'\n",
        "dataset\n"
      ],
      "execution_count": 14,
      "outputs": [
        {
          "output_type": "execute_result",
          "data": {
            "application/vnd.google.colaboratory.intrinsic+json": {
              "type": "string"
            },
            "text/plain": [
              "'drive/My Drive/Colab Notebooks/data.xlsx'"
            ]
          },
          "metadata": {},
          "execution_count": 14
        }
      ]
    },
    {
      "cell_type": "code",
      "metadata": {
        "colab": {
          "base_uri": "https://localhost:8080/",
          "height": 203
        },
        "id": "pFb5PCUJ6djE",
        "outputId": "5837dc3d-dcf3-44c9-bb0f-a1bfe0272060"
      },
      "source": [
        "import pandas as pd\n",
        "\n",
        "df = pd.read_excel(dataset)\n",
        "df.head()"
      ],
      "execution_count": 15,
      "outputs": [
        {
          "output_type": "execute_result",
          "data": {
            "text/html": [
              "<div>\n",
              "<style scoped>\n",
              "    .dataframe tbody tr th:only-of-type {\n",
              "        vertical-align: middle;\n",
              "    }\n",
              "\n",
              "    .dataframe tbody tr th {\n",
              "        vertical-align: top;\n",
              "    }\n",
              "\n",
              "    .dataframe thead th {\n",
              "        text-align: right;\n",
              "    }\n",
              "</style>\n",
              "<table border=\"1\" class=\"dataframe\">\n",
              "  <thead>\n",
              "    <tr style=\"text-align: right;\">\n",
              "      <th></th>\n",
              "      <th>Unnamed: 0</th>\n",
              "      <th>Date</th>\n",
              "      <th>MaxUtil_Link_1</th>\n",
              "      <th>Capacity_1</th>\n",
              "      <th>MaxUtil_Link_2</th>\n",
              "      <th>Capacity_2</th>\n",
              "    </tr>\n",
              "  </thead>\n",
              "  <tbody>\n",
              "    <tr>\n",
              "      <th>0</th>\n",
              "      <td>NaN</td>\n",
              "      <td>2020-01-01</td>\n",
              "      <td>199.94</td>\n",
              "      <td>300</td>\n",
              "      <td>128.21</td>\n",
              "      <td>200</td>\n",
              "    </tr>\n",
              "    <tr>\n",
              "      <th>1</th>\n",
              "      <td>NaN</td>\n",
              "      <td>2020-02-01</td>\n",
              "      <td>198.01</td>\n",
              "      <td>300</td>\n",
              "      <td>129.8</td>\n",
              "      <td>200</td>\n",
              "    </tr>\n",
              "    <tr>\n",
              "      <th>2</th>\n",
              "      <td>NaN</td>\n",
              "      <td>2020-03-01</td>\n",
              "      <td>197.19</td>\n",
              "      <td>300</td>\n",
              "      <td>124.44</td>\n",
              "      <td>200</td>\n",
              "    </tr>\n",
              "    <tr>\n",
              "      <th>3</th>\n",
              "      <td>NaN</td>\n",
              "      <td>2020-04-01</td>\n",
              "      <td>206.93</td>\n",
              "      <td>300</td>\n",
              "      <td>127.55</td>\n",
              "      <td>200</td>\n",
              "    </tr>\n",
              "    <tr>\n",
              "      <th>4</th>\n",
              "      <td>NaN</td>\n",
              "      <td>2020-05-01</td>\n",
              "      <td>228.66</td>\n",
              "      <td>400</td>\n",
              "      <td>130.25</td>\n",
              "      <td>200</td>\n",
              "    </tr>\n",
              "  </tbody>\n",
              "</table>\n",
              "</div>"
            ],
            "text/plain": [
              "   Unnamed: 0       Date MaxUtil_Link_1 Capacity_1 MaxUtil_Link_2 Capacity_2\n",
              "0         NaN 2020-01-01         199.94        300         128.21        200\n",
              "1         NaN 2020-02-01         198.01        300          129.8        200\n",
              "2         NaN 2020-03-01         197.19        300         124.44        200\n",
              "3         NaN 2020-04-01         206.93        300         127.55        200\n",
              "4         NaN 2020-05-01         228.66        400         130.25        200"
            ]
          },
          "metadata": {},
          "execution_count": 15
        }
      ]
    },
    {
      "cell_type": "code",
      "metadata": {
        "id": "Ucaho-Uj8FqA"
      },
      "source": [
        "df = df.drop(columns=['Unnamed: 0'])"
      ],
      "execution_count": 16,
      "outputs": []
    },
    {
      "cell_type": "code",
      "metadata": {
        "id": "VOeORx6Z64Zb"
      },
      "source": [
        "df = df[df['MaxUtil_Link_1']!='-']"
      ],
      "execution_count": 17,
      "outputs": []
    },
    {
      "cell_type": "code",
      "metadata": {
        "colab": {
          "base_uri": "https://localhost:8080/",
          "height": 665
        },
        "id": "1xioxSC78fEK",
        "outputId": "81ddb9d8-ca28-4f83-f73c-a2e93a2922f2"
      },
      "source": [
        "df"
      ],
      "execution_count": 18,
      "outputs": [
        {
          "output_type": "execute_result",
          "data": {
            "text/html": [
              "<div>\n",
              "<style scoped>\n",
              "    .dataframe tbody tr th:only-of-type {\n",
              "        vertical-align: middle;\n",
              "    }\n",
              "\n",
              "    .dataframe tbody tr th {\n",
              "        vertical-align: top;\n",
              "    }\n",
              "\n",
              "    .dataframe thead th {\n",
              "        text-align: right;\n",
              "    }\n",
              "</style>\n",
              "<table border=\"1\" class=\"dataframe\">\n",
              "  <thead>\n",
              "    <tr style=\"text-align: right;\">\n",
              "      <th></th>\n",
              "      <th>Date</th>\n",
              "      <th>MaxUtil_Link_1</th>\n",
              "      <th>Capacity_1</th>\n",
              "      <th>MaxUtil_Link_2</th>\n",
              "      <th>Capacity_2</th>\n",
              "    </tr>\n",
              "  </thead>\n",
              "  <tbody>\n",
              "    <tr>\n",
              "      <th>0</th>\n",
              "      <td>2020-01-01</td>\n",
              "      <td>199.94</td>\n",
              "      <td>300</td>\n",
              "      <td>128.21</td>\n",
              "      <td>200</td>\n",
              "    </tr>\n",
              "    <tr>\n",
              "      <th>1</th>\n",
              "      <td>2020-02-01</td>\n",
              "      <td>198.01</td>\n",
              "      <td>300</td>\n",
              "      <td>129.8</td>\n",
              "      <td>200</td>\n",
              "    </tr>\n",
              "    <tr>\n",
              "      <th>2</th>\n",
              "      <td>2020-03-01</td>\n",
              "      <td>197.19</td>\n",
              "      <td>300</td>\n",
              "      <td>124.44</td>\n",
              "      <td>200</td>\n",
              "    </tr>\n",
              "    <tr>\n",
              "      <th>3</th>\n",
              "      <td>2020-04-01</td>\n",
              "      <td>206.93</td>\n",
              "      <td>300</td>\n",
              "      <td>127.55</td>\n",
              "      <td>200</td>\n",
              "    </tr>\n",
              "    <tr>\n",
              "      <th>4</th>\n",
              "      <td>2020-05-01</td>\n",
              "      <td>228.66</td>\n",
              "      <td>400</td>\n",
              "      <td>130.25</td>\n",
              "      <td>200</td>\n",
              "    </tr>\n",
              "    <tr>\n",
              "      <th>5</th>\n",
              "      <td>2020-06-01</td>\n",
              "      <td>236.45</td>\n",
              "      <td>400</td>\n",
              "      <td>133.02</td>\n",
              "      <td>200</td>\n",
              "    </tr>\n",
              "    <tr>\n",
              "      <th>6</th>\n",
              "      <td>2020-07-01</td>\n",
              "      <td>240.9</td>\n",
              "      <td>400</td>\n",
              "      <td>132.24</td>\n",
              "      <td>200</td>\n",
              "    </tr>\n",
              "    <tr>\n",
              "      <th>7</th>\n",
              "      <td>2020-08-01</td>\n",
              "      <td>248.15</td>\n",
              "      <td>400</td>\n",
              "      <td>137</td>\n",
              "      <td>200</td>\n",
              "    </tr>\n",
              "    <tr>\n",
              "      <th>8</th>\n",
              "      <td>2020-09-01</td>\n",
              "      <td>253.59</td>\n",
              "      <td>400</td>\n",
              "      <td>144.85</td>\n",
              "      <td>200</td>\n",
              "    </tr>\n",
              "    <tr>\n",
              "      <th>9</th>\n",
              "      <td>2020-10-01</td>\n",
              "      <td>353.61</td>\n",
              "      <td>400</td>\n",
              "      <td>144.5</td>\n",
              "      <td>200</td>\n",
              "    </tr>\n",
              "    <tr>\n",
              "      <th>10</th>\n",
              "      <td>2020-11-01</td>\n",
              "      <td>263.54</td>\n",
              "      <td>400</td>\n",
              "      <td>148.42</td>\n",
              "      <td>200</td>\n",
              "    </tr>\n",
              "    <tr>\n",
              "      <th>11</th>\n",
              "      <td>2020-12-01</td>\n",
              "      <td>308.92</td>\n",
              "      <td>500</td>\n",
              "      <td>182.37</td>\n",
              "      <td>300</td>\n",
              "    </tr>\n",
              "    <tr>\n",
              "      <th>12</th>\n",
              "      <td>2021-01-01</td>\n",
              "      <td>319.04</td>\n",
              "      <td>500</td>\n",
              "      <td>189.48</td>\n",
              "      <td>300</td>\n",
              "    </tr>\n",
              "    <tr>\n",
              "      <th>13</th>\n",
              "      <td>2021-02-01</td>\n",
              "      <td>320.51</td>\n",
              "      <td>500</td>\n",
              "      <td>194.53</td>\n",
              "      <td>300</td>\n",
              "    </tr>\n",
              "    <tr>\n",
              "      <th>14</th>\n",
              "      <td>2021-03-01</td>\n",
              "      <td>328.21</td>\n",
              "      <td>500</td>\n",
              "      <td>200.22</td>\n",
              "      <td>300</td>\n",
              "    </tr>\n",
              "    <tr>\n",
              "      <th>15</th>\n",
              "      <td>2021-04-01</td>\n",
              "      <td>351.21</td>\n",
              "      <td>500</td>\n",
              "      <td>216.08</td>\n",
              "      <td>300</td>\n",
              "    </tr>\n",
              "    <tr>\n",
              "      <th>16</th>\n",
              "      <td>2021-05-01</td>\n",
              "      <td>369.5</td>\n",
              "      <td>500</td>\n",
              "      <td>225.86</td>\n",
              "      <td>400</td>\n",
              "    </tr>\n",
              "    <tr>\n",
              "      <th>17</th>\n",
              "      <td>2021-06-01</td>\n",
              "      <td>399.57</td>\n",
              "      <td>600</td>\n",
              "      <td>242.28</td>\n",
              "      <td>400</td>\n",
              "    </tr>\n",
              "    <tr>\n",
              "      <th>18</th>\n",
              "      <td>2021-07-01</td>\n",
              "      <td>423.9</td>\n",
              "      <td>600</td>\n",
              "      <td>257.92</td>\n",
              "      <td>400</td>\n",
              "    </tr>\n",
              "    <tr>\n",
              "      <th>19</th>\n",
              "      <td>2021-08-01</td>\n",
              "      <td>433.2</td>\n",
              "      <td>600</td>\n",
              "      <td>266.44</td>\n",
              "      <td>400</td>\n",
              "    </tr>\n",
              "  </tbody>\n",
              "</table>\n",
              "</div>"
            ],
            "text/plain": [
              "         Date MaxUtil_Link_1 Capacity_1 MaxUtil_Link_2 Capacity_2\n",
              "0  2020-01-01         199.94        300         128.21        200\n",
              "1  2020-02-01         198.01        300          129.8        200\n",
              "2  2020-03-01         197.19        300         124.44        200\n",
              "3  2020-04-01         206.93        300         127.55        200\n",
              "4  2020-05-01         228.66        400         130.25        200\n",
              "5  2020-06-01         236.45        400         133.02        200\n",
              "6  2020-07-01          240.9        400         132.24        200\n",
              "7  2020-08-01         248.15        400            137        200\n",
              "8  2020-09-01         253.59        400         144.85        200\n",
              "9  2020-10-01         353.61        400          144.5        200\n",
              "10 2020-11-01         263.54        400         148.42        200\n",
              "11 2020-12-01         308.92        500         182.37        300\n",
              "12 2021-01-01         319.04        500         189.48        300\n",
              "13 2021-02-01         320.51        500         194.53        300\n",
              "14 2021-03-01         328.21        500         200.22        300\n",
              "15 2021-04-01         351.21        500         216.08        300\n",
              "16 2021-05-01          369.5        500         225.86        400\n",
              "17 2021-06-01         399.57        600         242.28        400\n",
              "18 2021-07-01          423.9        600         257.92        400\n",
              "19 2021-08-01          433.2        600         266.44        400"
            ]
          },
          "metadata": {},
          "execution_count": 18
        }
      ]
    },
    {
      "cell_type": "code",
      "metadata": {
        "id": "EkYfShCL86iE"
      },
      "source": [
        "df =  df.drop(columns=['Capacity_1','MaxUtil_Link_2','Capacity_2'])"
      ],
      "execution_count": 19,
      "outputs": []
    },
    {
      "cell_type": "code",
      "metadata": {
        "id": "ejShu-l08eLA"
      },
      "source": [
        "df = df.rename(columns={\"Date\": \"ds\", \"MaxUtil_Link_1\": \"y\"})"
      ],
      "execution_count": 21,
      "outputs": []
    },
    {
      "cell_type": "code",
      "metadata": {
        "id": "-J_8G1oR8cNc"
      },
      "source": [
        "df.columns = ['ds', 'y']\n",
        "df['ds']= pd.to_datetime(df['ds'])"
      ],
      "execution_count": null,
      "outputs": []
    },
    {
      "cell_type": "code",
      "metadata": {
        "id": "XzS-c3dBC_i7"
      },
      "source": [
        "# df = df[df['ds'] < \"2021-01-01\"] #cek akurasi"
      ],
      "execution_count": null,
      "outputs": []
    },
    {
      "cell_type": "code",
      "metadata": {
        "colab": {
          "base_uri": "https://localhost:8080/"
        },
        "id": "sbP49U8h-AWA",
        "outputId": "30261851-c600-4ae2-8ca9-257e5c247a57"
      },
      "source": [
        "from fbprophet import Prophet\n",
        "\n",
        "# define the model\n",
        "model = Prophet()\n",
        "# fit the model\n",
        "model.fit(df)"
      ],
      "execution_count": 22,
      "outputs": [
        {
          "output_type": "stream",
          "name": "stderr",
          "text": [
            "INFO:numexpr.utils:NumExpr defaulting to 2 threads.\n",
            "INFO:fbprophet:Disabling yearly seasonality. Run prophet with yearly_seasonality=True to override this.\n",
            "INFO:fbprophet:Disabling weekly seasonality. Run prophet with weekly_seasonality=True to override this.\n",
            "INFO:fbprophet:Disabling daily seasonality. Run prophet with daily_seasonality=True to override this.\n",
            "INFO:fbprophet:n_changepoints greater than number of observations. Using 15.\n"
          ]
        },
        {
          "output_type": "execute_result",
          "data": {
            "text/plain": [
              "<fbprophet.forecaster.Prophet at 0x7efd2b7fbe50>"
            ]
          },
          "metadata": {},
          "execution_count": 22
        }
      ]
    },
    {
      "cell_type": "code",
      "metadata": {
        "id": "JxntyxIKJs1B"
      },
      "source": [
        "# from pandas import DataFrame\n",
        "# from pandas import to_datetime\n",
        "\n",
        "# future = list()\n",
        "# for i in range(1, 13):\n",
        "# \tdate = '2021-%02d' % i\n",
        "# \tfuture.append([date])\n",
        "# future = DataFrame(future)\n",
        "# future.columns = ['ds']\n",
        "# future['ds']= to_datetime(future['ds'])"
      ],
      "execution_count": null,
      "outputs": []
    },
    {
      "cell_type": "code",
      "metadata": {
        "id": "h2uFLtjH-TiM"
      },
      "source": [
        "from pandas import DataFrame\n",
        "from pandas import to_datetime\n",
        "\n",
        "count = 2021\n",
        "\n",
        "future = list()\n",
        "for i in range(1, 17):\n",
        "  if i>12:\n",
        "    if i%13==0:\n",
        "      count +=1\n",
        "    i=i-12\n",
        "\n",
        "\n",
        "  date = str(count)+'-%02d' % i\n",
        "  future.append([date])\n",
        "\n",
        "future = DataFrame(future)\n",
        "future.columns = ['ds']\n",
        "future['ds']= to_datetime(future['ds'])"
      ],
      "execution_count": 23,
      "outputs": []
    },
    {
      "cell_type": "code",
      "metadata": {
        "colab": {
          "base_uri": "https://localhost:8080/",
          "height": 542
        },
        "id": "GTkwdsSXAvb_",
        "outputId": "2e8b8813-1708-4b63-e1e4-c7f8404a77ce"
      },
      "source": [
        "future"
      ],
      "execution_count": 24,
      "outputs": [
        {
          "output_type": "execute_result",
          "data": {
            "text/html": [
              "<div>\n",
              "<style scoped>\n",
              "    .dataframe tbody tr th:only-of-type {\n",
              "        vertical-align: middle;\n",
              "    }\n",
              "\n",
              "    .dataframe tbody tr th {\n",
              "        vertical-align: top;\n",
              "    }\n",
              "\n",
              "    .dataframe thead th {\n",
              "        text-align: right;\n",
              "    }\n",
              "</style>\n",
              "<table border=\"1\" class=\"dataframe\">\n",
              "  <thead>\n",
              "    <tr style=\"text-align: right;\">\n",
              "      <th></th>\n",
              "      <th>ds</th>\n",
              "    </tr>\n",
              "  </thead>\n",
              "  <tbody>\n",
              "    <tr>\n",
              "      <th>0</th>\n",
              "      <td>2021-01-01</td>\n",
              "    </tr>\n",
              "    <tr>\n",
              "      <th>1</th>\n",
              "      <td>2021-02-01</td>\n",
              "    </tr>\n",
              "    <tr>\n",
              "      <th>2</th>\n",
              "      <td>2021-03-01</td>\n",
              "    </tr>\n",
              "    <tr>\n",
              "      <th>3</th>\n",
              "      <td>2021-04-01</td>\n",
              "    </tr>\n",
              "    <tr>\n",
              "      <th>4</th>\n",
              "      <td>2021-05-01</td>\n",
              "    </tr>\n",
              "    <tr>\n",
              "      <th>5</th>\n",
              "      <td>2021-06-01</td>\n",
              "    </tr>\n",
              "    <tr>\n",
              "      <th>6</th>\n",
              "      <td>2021-07-01</td>\n",
              "    </tr>\n",
              "    <tr>\n",
              "      <th>7</th>\n",
              "      <td>2021-08-01</td>\n",
              "    </tr>\n",
              "    <tr>\n",
              "      <th>8</th>\n",
              "      <td>2021-09-01</td>\n",
              "    </tr>\n",
              "    <tr>\n",
              "      <th>9</th>\n",
              "      <td>2021-10-01</td>\n",
              "    </tr>\n",
              "    <tr>\n",
              "      <th>10</th>\n",
              "      <td>2021-11-01</td>\n",
              "    </tr>\n",
              "    <tr>\n",
              "      <th>11</th>\n",
              "      <td>2021-12-01</td>\n",
              "    </tr>\n",
              "    <tr>\n",
              "      <th>12</th>\n",
              "      <td>2022-01-01</td>\n",
              "    </tr>\n",
              "    <tr>\n",
              "      <th>13</th>\n",
              "      <td>2022-02-01</td>\n",
              "    </tr>\n",
              "    <tr>\n",
              "      <th>14</th>\n",
              "      <td>2022-03-01</td>\n",
              "    </tr>\n",
              "    <tr>\n",
              "      <th>15</th>\n",
              "      <td>2022-04-01</td>\n",
              "    </tr>\n",
              "  </tbody>\n",
              "</table>\n",
              "</div>"
            ],
            "text/plain": [
              "           ds\n",
              "0  2021-01-01\n",
              "1  2021-02-01\n",
              "2  2021-03-01\n",
              "3  2021-04-01\n",
              "4  2021-05-01\n",
              "5  2021-06-01\n",
              "6  2021-07-01\n",
              "7  2021-08-01\n",
              "8  2021-09-01\n",
              "9  2021-10-01\n",
              "10 2021-11-01\n",
              "11 2021-12-01\n",
              "12 2022-01-01\n",
              "13 2022-02-01\n",
              "14 2022-03-01\n",
              "15 2022-04-01"
            ]
          },
          "metadata": {},
          "execution_count": 24
        }
      ]
    },
    {
      "cell_type": "code",
      "metadata": {
        "colab": {
          "base_uri": "https://localhost:8080/",
          "height": 970
        },
        "id": "hBQt5YJv_kNK",
        "outputId": "cd562869-1f77-47f1-a4f1-c1a59ac2d4de"
      },
      "source": [
        "# use the model to make a forecast\n",
        "forecast = model.predict(future)\n",
        "# summarize the forecast\n",
        "print(forecast[['ds', 'yhat', 'yhat_lower', 'yhat_upper']].head())\n",
        "# plot forecast\n",
        "model.plot(forecast)\n",
        "# pyplot.show()"
      ],
      "execution_count": 25,
      "outputs": [
        {
          "output_type": "stream",
          "name": "stdout",
          "text": [
            "          ds        yhat  yhat_lower  yhat_upper\n",
            "0 2021-01-01  325.567862  298.480624  353.530475\n",
            "1 2021-02-01  338.262763  307.329538  364.534968\n",
            "2 2021-03-01  349.729175  323.138367  377.762407\n",
            "3 2021-04-01  362.424134  336.101752  389.995954\n",
            "4 2021-05-01  374.709579  346.183731  400.931298\n"
          ]
        },
        {
          "output_type": "execute_result",
          "data": {
            "image/png": "[encoded data removed]",
            "text/plain": [
              "<Figure size 720x432 with 1 Axes>"
            ]
          },
          "metadata": {},
          "execution_count": 25
        },
        {
          "output_type": "display_data",
          "data": {
            "image/png": "[encoded data removed]",
            "text/plain": [
              "<Figure size 720x432 with 1 Axes>"
            ]
          },
          "metadata": {}
        }
      ]
    },
    {
      "cell_type": "code",
      "metadata": {
        "id": "3i3e6i-E_lTl"
      },
      "source": [
        "sampai_agustus = forecast['yhat'][:8].values"
      ],
      "execution_count": 26,
      "outputs": []
    },
    {
      "cell_type": "code",
      "metadata": {
        "id": "cLsWu_TGB0i7"
      },
      "source": [
        "real = df['y'][12:20].values"
      ],
      "execution_count": 27,
      "outputs": []
    },
    {
      "cell_type": "code",
      "metadata": {
        "colab": {
          "base_uri": "https://localhost:8080/",
          "height": 830
        },
        "id": "6oq4RpE7H9f3",
        "outputId": "978abaa3-1bdc-45a9-ba70-4b8f092d5a42"
      },
      "source": [
        "forecast"
      ],
      "execution_count": 28,
      "outputs": [
        {
          "output_type": "execute_result",
          "data": {
            "text/html": [
              "<div>\n",
              "<style scoped>\n",
              "    .dataframe tbody tr th:only-of-type {\n",
              "        vertical-align: middle;\n",
              "    }\n",
              "\n",
              "    .dataframe tbody tr th {\n",
              "        vertical-align: top;\n",
              "    }\n",
              "\n",
              "    .dataframe thead th {\n",
              "        text-align: right;\n",
              "    }\n",
              "</style>\n",
              "<table border=\"1\" class=\"dataframe\">\n",
              "  <thead>\n",
              "    <tr style=\"text-align: right;\">\n",
              "      <th></th>\n",
              "      <th>ds</th>\n",
              "      <th>trend</th>\n",
              "      <th>yhat_lower</th>\n",
              "      <th>yhat_upper</th>\n",
              "      <th>trend_lower</th>\n",
              "      <th>trend_upper</th>\n",
              "      <th>additive_terms</th>\n",
              "      <th>additive_terms_lower</th>\n",
              "      <th>additive_terms_upper</th>\n",
              "      <th>multiplicative_terms</th>\n",
              "      <th>multiplicative_terms_lower</th>\n",
              "      <th>multiplicative_terms_upper</th>\n",
              "      <th>yhat</th>\n",
              "    </tr>\n",
              "  </thead>\n",
              "  <tbody>\n",
              "    <tr>\n",
              "      <th>0</th>\n",
              "      <td>2021-01-01</td>\n",
              "      <td>325.567862</td>\n",
              "      <td>298.480624</td>\n",
              "      <td>353.530475</td>\n",
              "      <td>325.567862</td>\n",
              "      <td>325.567862</td>\n",
              "      <td>0.0</td>\n",
              "      <td>0.0</td>\n",
              "      <td>0.0</td>\n",
              "      <td>0.0</td>\n",
              "      <td>0.0</td>\n",
              "      <td>0.0</td>\n",
              "      <td>325.567862</td>\n",
              "    </tr>\n",
              "    <tr>\n",
              "      <th>1</th>\n",
              "      <td>2021-02-01</td>\n",
              "      <td>338.262763</td>\n",
              "      <td>307.329538</td>\n",
              "      <td>364.534968</td>\n",
              "      <td>338.262763</td>\n",
              "      <td>338.262763</td>\n",
              "      <td>0.0</td>\n",
              "      <td>0.0</td>\n",
              "      <td>0.0</td>\n",
              "      <td>0.0</td>\n",
              "      <td>0.0</td>\n",
              "      <td>0.0</td>\n",
              "      <td>338.262763</td>\n",
              "    </tr>\n",
              "    <tr>\n",
              "      <th>2</th>\n",
              "      <td>2021-03-01</td>\n",
              "      <td>349.729175</td>\n",
              "      <td>323.138367</td>\n",
              "      <td>377.762407</td>\n",
              "      <td>349.729175</td>\n",
              "      <td>349.729175</td>\n",
              "      <td>0.0</td>\n",
              "      <td>0.0</td>\n",
              "      <td>0.0</td>\n",
              "      <td>0.0</td>\n",
              "      <td>0.0</td>\n",
              "      <td>0.0</td>\n",
              "      <td>349.729175</td>\n",
              "    </tr>\n",
              "    <tr>\n",
              "      <th>3</th>\n",
              "      <td>2021-04-01</td>\n",
              "      <td>362.424134</td>\n",
              "      <td>336.101752</td>\n",
              "      <td>389.995954</td>\n",
              "      <td>362.424134</td>\n",
              "      <td>362.424134</td>\n",
              "      <td>0.0</td>\n",
              "      <td>0.0</td>\n",
              "      <td>0.0</td>\n",
              "      <td>0.0</td>\n",
              "      <td>0.0</td>\n",
              "      <td>0.0</td>\n",
              "      <td>362.424134</td>\n",
              "    </tr>\n",
              "    <tr>\n",
              "      <th>4</th>\n",
              "      <td>2021-05-01</td>\n",
              "      <td>374.709579</td>\n",
              "      <td>346.183731</td>\n",
              "      <td>400.931298</td>\n",
              "      <td>374.709579</td>\n",
              "      <td>374.709579</td>\n",
              "      <td>0.0</td>\n",
              "      <td>0.0</td>\n",
              "      <td>0.0</td>\n",
              "      <td>0.0</td>\n",
              "      <td>0.0</td>\n",
              "      <td>0.0</td>\n",
              "      <td>374.709579</td>\n",
              "    </tr>\n",
              "    <tr>\n",
              "      <th>5</th>\n",
              "      <td>2021-06-01</td>\n",
              "      <td>387.404540</td>\n",
              "      <td>358.750211</td>\n",
              "      <td>414.456666</td>\n",
              "      <td>387.404540</td>\n",
              "      <td>387.404540</td>\n",
              "      <td>0.0</td>\n",
              "      <td>0.0</td>\n",
              "      <td>0.0</td>\n",
              "      <td>0.0</td>\n",
              "      <td>0.0</td>\n",
              "      <td>0.0</td>\n",
              "      <td>387.404540</td>\n",
              "    </tr>\n",
              "    <tr>\n",
              "      <th>6</th>\n",
              "      <td>2021-07-01</td>\n",
              "      <td>399.689985</td>\n",
              "      <td>372.443871</td>\n",
              "      <td>428.822025</td>\n",
              "      <td>399.689985</td>\n",
              "      <td>399.689985</td>\n",
              "      <td>0.0</td>\n",
              "      <td>0.0</td>\n",
              "      <td>0.0</td>\n",
              "      <td>0.0</td>\n",
              "      <td>0.0</td>\n",
              "      <td>0.0</td>\n",
              "      <td>399.689985</td>\n",
              "    </tr>\n",
              "    <tr>\n",
              "      <th>7</th>\n",
              "      <td>2021-08-01</td>\n",
              "      <td>412.384945</td>\n",
              "      <td>384.364992</td>\n",
              "      <td>439.870074</td>\n",
              "      <td>412.384945</td>\n",
              "      <td>412.384945</td>\n",
              "      <td>0.0</td>\n",
              "      <td>0.0</td>\n",
              "      <td>0.0</td>\n",
              "      <td>0.0</td>\n",
              "      <td>0.0</td>\n",
              "      <td>0.0</td>\n",
              "      <td>412.384945</td>\n",
              "    </tr>\n",
              "    <tr>\n",
              "      <th>8</th>\n",
              "      <td>2021-09-01</td>\n",
              "      <td>425.079905</td>\n",
              "      <td>397.424040</td>\n",
              "      <td>453.502250</td>\n",
              "      <td>425.079902</td>\n",
              "      <td>425.079908</td>\n",
              "      <td>0.0</td>\n",
              "      <td>0.0</td>\n",
              "      <td>0.0</td>\n",
              "      <td>0.0</td>\n",
              "      <td>0.0</td>\n",
              "      <td>0.0</td>\n",
              "      <td>425.079905</td>\n",
              "    </tr>\n",
              "    <tr>\n",
              "      <th>9</th>\n",
              "      <td>2021-10-01</td>\n",
              "      <td>437.365350</td>\n",
              "      <td>410.323254</td>\n",
              "      <td>468.637470</td>\n",
              "      <td>437.365340</td>\n",
              "      <td>437.365361</td>\n",
              "      <td>0.0</td>\n",
              "      <td>0.0</td>\n",
              "      <td>0.0</td>\n",
              "      <td>0.0</td>\n",
              "      <td>0.0</td>\n",
              "      <td>0.0</td>\n",
              "      <td>437.365350</td>\n",
              "    </tr>\n",
              "    <tr>\n",
              "      <th>10</th>\n",
              "      <td>2021-11-01</td>\n",
              "      <td>450.060310</td>\n",
              "      <td>421.702979</td>\n",
              "      <td>478.607861</td>\n",
              "      <td>450.060289</td>\n",
              "      <td>450.060331</td>\n",
              "      <td>0.0</td>\n",
              "      <td>0.0</td>\n",
              "      <td>0.0</td>\n",
              "      <td>0.0</td>\n",
              "      <td>0.0</td>\n",
              "      <td>0.0</td>\n",
              "      <td>450.060310</td>\n",
              "    </tr>\n",
              "    <tr>\n",
              "      <th>11</th>\n",
              "      <td>2021-12-01</td>\n",
              "      <td>462.345756</td>\n",
              "      <td>435.411053</td>\n",
              "      <td>489.606377</td>\n",
              "      <td>462.345721</td>\n",
              "      <td>462.345788</td>\n",
              "      <td>0.0</td>\n",
              "      <td>0.0</td>\n",
              "      <td>0.0</td>\n",
              "      <td>0.0</td>\n",
              "      <td>0.0</td>\n",
              "      <td>0.0</td>\n",
              "      <td>462.345756</td>\n",
              "    </tr>\n",
              "    <tr>\n",
              "      <th>12</th>\n",
              "      <td>2022-01-01</td>\n",
              "      <td>475.040716</td>\n",
              "      <td>447.595885</td>\n",
              "      <td>503.521864</td>\n",
              "      <td>475.040667</td>\n",
              "      <td>475.040765</td>\n",
              "      <td>0.0</td>\n",
              "      <td>0.0</td>\n",
              "      <td>0.0</td>\n",
              "      <td>0.0</td>\n",
              "      <td>0.0</td>\n",
              "      <td>0.0</td>\n",
              "      <td>475.040716</td>\n",
              "    </tr>\n",
              "    <tr>\n",
              "      <th>13</th>\n",
              "      <td>2022-02-01</td>\n",
              "      <td>487.735676</td>\n",
              "      <td>460.549017</td>\n",
              "      <td>515.003048</td>\n",
              "      <td>487.735607</td>\n",
              "      <td>487.735741</td>\n",
              "      <td>0.0</td>\n",
              "      <td>0.0</td>\n",
              "      <td>0.0</td>\n",
              "      <td>0.0</td>\n",
              "      <td>0.0</td>\n",
              "      <td>0.0</td>\n",
              "      <td>487.735676</td>\n",
              "    </tr>\n",
              "    <tr>\n",
              "      <th>14</th>\n",
              "      <td>2022-03-01</td>\n",
              "      <td>499.202092</td>\n",
              "      <td>471.850549</td>\n",
              "      <td>526.370656</td>\n",
              "      <td>499.202002</td>\n",
              "      <td>499.202171</td>\n",
              "      <td>0.0</td>\n",
              "      <td>0.0</td>\n",
              "      <td>0.0</td>\n",
              "      <td>0.0</td>\n",
              "      <td>0.0</td>\n",
              "      <td>0.0</td>\n",
              "      <td>499.202092</td>\n",
              "    </tr>\n",
              "    <tr>\n",
              "      <th>15</th>\n",
              "      <td>2022-04-01</td>\n",
              "      <td>511.897052</td>\n",
              "      <td>482.656147</td>\n",
              "      <td>540.903992</td>\n",
              "      <td>511.896941</td>\n",
              "      <td>511.897154</td>\n",
              "      <td>0.0</td>\n",
              "      <td>0.0</td>\n",
              "      <td>0.0</td>\n",
              "      <td>0.0</td>\n",
              "      <td>0.0</td>\n",
              "      <td>0.0</td>\n",
              "      <td>511.897052</td>\n",
              "    </tr>\n",
              "  </tbody>\n",
              "</table>\n",
              "</div>"
            ],
            "text/plain": [
              "           ds       trend  ...  multiplicative_terms_upper        yhat\n",
              "0  2021-01-01  325.567862  ...                         0.0  325.567862\n",
              "1  2021-02-01  338.262763  ...                         0.0  338.262763\n",
              "2  2021-03-01  349.729175  ...                         0.0  349.729175\n",
              "3  2021-04-01  362.424134  ...                         0.0  362.424134\n",
              "4  2021-05-01  374.709579  ...                         0.0  374.709579\n",
              "5  2021-06-01  387.404540  ...                         0.0  387.404540\n",
              "6  2021-07-01  399.689985  ...                         0.0  399.689985\n",
              "7  2021-08-01  412.384945  ...                         0.0  412.384945\n",
              "8  2021-09-01  425.079905  ...                         0.0  425.079905\n",
              "9  2021-10-01  437.365350  ...                         0.0  437.365350\n",
              "10 2021-11-01  450.060310  ...                         0.0  450.060310\n",
              "11 2021-12-01  462.345756  ...                         0.0  462.345756\n",
              "12 2022-01-01  475.040716  ...                         0.0  475.040716\n",
              "13 2022-02-01  487.735676  ...                         0.0  487.735676\n",
              "14 2022-03-01  499.202092  ...                         0.0  499.202092\n",
              "15 2022-04-01  511.897052  ...                         0.0  511.897052\n",
              "\n",
              "[16 rows x 13 columns]"
            ]
          },
          "metadata": {},
          "execution_count": 28
        }
      ]
    },
    {
      "cell_type": "code",
      "metadata": {
        "colab": {
          "base_uri": "https://localhost:8080/",
          "height": 665
        },
        "id": "NrD7MU-7B3NI",
        "outputId": "9721436b-80a6-4d0b-e530-cbb799735eaf"
      },
      "source": [
        "df"
      ],
      "execution_count": 29,
      "outputs": [
        {
          "output_type": "execute_result",
          "data": {
            "text/html": [
              "<div>\n",
              "<style scoped>\n",
              "    .dataframe tbody tr th:only-of-type {\n",
              "        vertical-align: middle;\n",
              "    }\n",
              "\n",
              "    .dataframe tbody tr th {\n",
              "        vertical-align: top;\n",
              "    }\n",
              "\n",
              "    .dataframe thead th {\n",
              "        text-align: right;\n",
              "    }\n",
              "</style>\n",
              "<table border=\"1\" class=\"dataframe\">\n",
              "  <thead>\n",
              "    <tr style=\"text-align: right;\">\n",
              "      <th></th>\n",
              "      <th>ds</th>\n",
              "      <th>y</th>\n",
              "    </tr>\n",
              "  </thead>\n",
              "  <tbody>\n",
              "    <tr>\n",
              "      <th>0</th>\n",
              "      <td>2020-01-01</td>\n",
              "      <td>199.94</td>\n",
              "    </tr>\n",
              "    <tr>\n",
              "      <th>1</th>\n",
              "      <td>2020-02-01</td>\n",
              "      <td>198.01</td>\n",
              "    </tr>\n",
              "    <tr>\n",
              "      <th>2</th>\n",
              "      <td>2020-03-01</td>\n",
              "      <td>197.19</td>\n",
              "    </tr>\n",
              "    <tr>\n",
              "      <th>3</th>\n",
              "      <td>2020-04-01</td>\n",
              "      <td>206.93</td>\n",
              "    </tr>\n",
              "    <tr>\n",
              "      <th>4</th>\n",
              "      <td>2020-05-01</td>\n",
              "      <td>228.66</td>\n",
              "    </tr>\n",
              "    <tr>\n",
              "      <th>5</th>\n",
              "      <td>2020-06-01</td>\n",
              "      <td>236.45</td>\n",
              "    </tr>\n",
              "    <tr>\n",
              "      <th>6</th>\n",
              "      <td>2020-07-01</td>\n",
              "      <td>240.9</td>\n",
              "    </tr>\n",
              "    <tr>\n",
              "      <th>7</th>\n",
              "      <td>2020-08-01</td>\n",
              "      <td>248.15</td>\n",
              "    </tr>\n",
              "    <tr>\n",
              "      <th>8</th>\n",
              "      <td>2020-09-01</td>\n",
              "      <td>253.59</td>\n",
              "    </tr>\n",
              "    <tr>\n",
              "      <th>9</th>\n",
              "      <td>2020-10-01</td>\n",
              "      <td>353.61</td>\n",
              "    </tr>\n",
              "    <tr>\n",
              "      <th>10</th>\n",
              "      <td>2020-11-01</td>\n",
              "      <td>263.54</td>\n",
              "    </tr>\n",
              "    <tr>\n",
              "      <th>11</th>\n",
              "      <td>2020-12-01</td>\n",
              "      <td>308.92</td>\n",
              "    </tr>\n",
              "    <tr>\n",
              "      <th>12</th>\n",
              "      <td>2021-01-01</td>\n",
              "      <td>319.04</td>\n",
              "    </tr>\n",
              "    <tr>\n",
              "      <th>13</th>\n",
              "      <td>2021-02-01</td>\n",
              "      <td>320.51</td>\n",
              "    </tr>\n",
              "    <tr>\n",
              "      <th>14</th>\n",
              "      <td>2021-03-01</td>\n",
              "      <td>328.21</td>\n",
              "    </tr>\n",
              "    <tr>\n",
              "      <th>15</th>\n",
              "      <td>2021-04-01</td>\n",
              "      <td>351.21</td>\n",
              "    </tr>\n",
              "    <tr>\n",
              "      <th>16</th>\n",
              "      <td>2021-05-01</td>\n",
              "      <td>369.5</td>\n",
              "    </tr>\n",
              "    <tr>\n",
              "      <th>17</th>\n",
              "      <td>2021-06-01</td>\n",
              "      <td>399.57</td>\n",
              "    </tr>\n",
              "    <tr>\n",
              "      <th>18</th>\n",
              "      <td>2021-07-01</td>\n",
              "      <td>423.9</td>\n",
              "    </tr>\n",
              "    <tr>\n",
              "      <th>19</th>\n",
              "      <td>2021-08-01</td>\n",
              "      <td>433.2</td>\n",
              "    </tr>\n",
              "  </tbody>\n",
              "</table>\n",
              "</div>"
            ],
            "text/plain": [
              "           ds       y\n",
              "0  2020-01-01  199.94\n",
              "1  2020-02-01  198.01\n",
              "2  2020-03-01  197.19\n",
              "3  2020-04-01  206.93\n",
              "4  2020-05-01  228.66\n",
              "5  2020-06-01  236.45\n",
              "6  2020-07-01   240.9\n",
              "7  2020-08-01  248.15\n",
              "8  2020-09-01  253.59\n",
              "9  2020-10-01  353.61\n",
              "10 2020-11-01  263.54\n",
              "11 2020-12-01  308.92\n",
              "12 2021-01-01  319.04\n",
              "13 2021-02-01  320.51\n",
              "14 2021-03-01  328.21\n",
              "15 2021-04-01  351.21\n",
              "16 2021-05-01   369.5\n",
              "17 2021-06-01  399.57\n",
              "18 2021-07-01   423.9\n",
              "19 2021-08-01   433.2"
            ]
          },
          "metadata": {},
          "execution_count": 29
        }
      ]
    },
    {
      "cell_type": "code",
      "metadata": {
        "colab": {
          "base_uri": "https://localhost:8080/"
        },
        "id": "4LY34OZUB9tE",
        "outputId": "c600bac4-c04e-4f14-d082-1b4efab937da"
      },
      "source": [
        "from sklearn.metrics import r2_score\n",
        "r2_score(sampai_agustus, real)"
      ],
      "execution_count": 31,
      "outputs": [
        {
          "output_type": "execute_result",
          "data": {
            "text/plain": [
              "0.6675655549656564"
            ]
          },
          "metadata": {},
          "execution_count": 31
        }
      ]
    },
    {
      "cell_type": "code",
      "metadata": {
        "colab": {
          "base_uri": "https://localhost:8080/"
        },
        "id": "CZM10reODz27",
        "outputId": "244703c1-d623-47f3-b106-e867d578c067"
      },
      "source": [
        "for x in range(len(real)):\n",
        "  print(str(sampai_agustus[x])+'==='+str(real[x]))"
      ],
      "execution_count": 32,
      "outputs": [
        {
          "output_type": "stream",
          "name": "stdout",
          "text": [
            "325.5678621535882===319.04\n",
            "338.2627626639617===320.51\n",
            "349.72917454605306===328.21\n",
            "362.4241341873572===351.21\n",
            "374.7095794606817===369.5\n",
            "387.40453957645036===399.57\n",
            "399.6899848497749===423.9\n",
            "412.3849449655435===433.2\n"
          ]
        }
      ]
    },
    {
      "cell_type": "code",
      "metadata": {
        "colab": {
          "base_uri": "https://localhost:8080/"
        },
        "id": "tEqqRsW2CZ3_",
        "outputId": "b69efbac-949b-4693-af59-745a09754026"
      },
      "source": [
        "sampai_agustus"
      ],
      "execution_count": 33,
      "outputs": [
        {
          "output_type": "execute_result",
          "data": {
            "text/plain": [
              "array([325.56786215, 338.26276266, 349.72917455, 362.42413419,\n",
              "       374.70957946, 387.40453958, 399.68998485, 412.38494497])"
            ]
          },
          "metadata": {},
          "execution_count": 33
        }
      ]
    },
    {
      "cell_type": "code",
      "metadata": {
        "colab": {
          "base_uri": "https://localhost:8080/"
        },
        "id": "h88ZMg_XDvQU",
        "outputId": "a3b7ec46-bab4-4203-ef0c-ad517f2634d9"
      },
      "source": [
        "real"
      ],
      "execution_count": 34,
      "outputs": [
        {
          "output_type": "execute_result",
          "data": {
            "text/plain": [
              "array([319.04, 320.51, 328.21, 351.21, 369.5, 399.57, 423.9, 433.2],\n",
              "      dtype=object)"
            ]
          },
          "metadata": {},
          "execution_count": 34
        }
      ]
    },
    {
      "cell_type": "code",
      "metadata": {
        "id": "DUVEIDVEDwKT"
      },
      "source": [
        ""
      ],
      "execution_count": null,
      "outputs": []
    }
  ]
}